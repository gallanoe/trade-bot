{
 "cells": [
  {
   "cell_type": "code",
   "execution_count": 1,
   "metadata": {},
   "outputs": [],
   "source": [
    "%matplotlib inline\n",
    "\n",
    "import numpy as np\n",
    "import pandas as pd\n",
    "import matplotlib.pyplot as plt\n",
    "import requests\n",
    "import datetime"
   ]
  },
  {
   "cell_type": "code",
   "execution_count": 2,
   "metadata": {},
   "outputs": [],
   "source": [
    "API_KEY = 'ddI6wJUdt_Qdg4SAfbpX9rpt56YXnRID'\n",
    "TICKER_URL = 'https://api.polygon.io/v3/reference/tickers?type=CS&market=stocks&active=true&sort=ticker&order=asc&limit=1000&apiKey={}'\n",
    "NEWS_URL = 'https://api.polygon.io/v2/reference/news?limit=100&order=descending&sort=published_utc&ticker={}&published_utc.gte={}&apiKey={}'\n",
    "INFO_URL = \"https://api.polygon.io/vX/reference/tickers/{}?&apiKey={}\"\n",
    "DATA_URL = \"https://api.polygon.io/v2/aggs/ticker/{}/range/1/day/{}/{}?unadjusted=false&sort=asc&limit=50000&apiKey={}\""
   ]
  },
  {
   "cell_type": "code",
   "execution_count": 5,
   "metadata": {},
   "outputs": [
    {
     "name": "stdout",
     "output_type": "stream",
     "text": [
      "Before active: 5262\n",
      "After active: 5262\n"
     ]
    }
   ],
   "source": [
    "results = []\n",
    "current_url = TICKER_URL.format(API_KEY)\n",
    "while True: \n",
    "    response = requests.get(current_url)\n",
    "    if not response.ok:\n",
    "        print('Fetch failed.')\n",
    "        break\n",
    "    response = response.json()\n",
    "    current_results = response['results']\n",
    "    results.extend(current_results)\n",
    "    if 'next_url' not in response:\n",
    "        break\n",
    "    else:\n",
    "        current_url = response['next_url'] + '&apiKey={}'.format(API_KEY)\n",
    "results = pd.DataFrame(results).drop(columns=['market', 'locale', 'type', 'currency_name', 'last_updated_utc'])\n",
    "print(\"Before active: %d\" % len(results))\n",
    "results = results[results['active']].drop(columns=['active'])\n",
    "print(\"After active: %d\" % len(results))"
   ]
  }
 ],
 "metadata": {
  "kernelspec": {
   "display_name": "Python 3",
   "language": "python",
   "name": "python3"
  },
  "language_info": {
   "codemirror_mode": {
    "name": "ipython",
    "version": 3
   },
   "file_extension": ".py",
   "mimetype": "text/x-python",
   "name": "python",
   "nbconvert_exporter": "python",
   "pygments_lexer": "ipython3",
   "version": "3.8.5"
  }
 },
 "nbformat": 4,
 "nbformat_minor": 4
}
